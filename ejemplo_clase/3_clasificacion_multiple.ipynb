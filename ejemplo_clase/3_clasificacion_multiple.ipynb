{
 "cells": [
  {
   "cell_type": "markdown",
   "metadata": {
    "id": "67RBrvkUviuj"
   },
   "source": [
    "<a href=\"https://www.inove.com.ar\"><img src=\"https://raw.githubusercontent.com/InoveAlumnos/dataset_analytics_python/master/images/PA%20Banner.png\" width=\"1000\" align=\"center\"></a>\n",
    "\n",
    "\n",
    "# Ejercicio de clasificación con redes neuronales (antes KNN)\n",
    "\n",
    "Ejemplo de clasificación utilizando redes neuronales para la clasificación de drogadas que debería tomar un pasiente según su historial clínico<br>\n",
    "\n",
    "v1.1"
   ]
  },
  {
   "cell_type": "code",
   "execution_count": null,
   "metadata": {
    "id": "y2sSeyEovSw-"
   },
   "outputs": [],
   "source": [
    "import os\n",
    "import platform\n",
    "\n",
    "import numpy as np\n",
    "import matplotlib.pyplot as plt\n",
    "import seaborn as sns\n",
    "import pandas as pd\n",
    "\n",
    "import tensorflow as tf\n",
    "from tensorflow.keras.utils import to_categorical\n",
    "import keras\n",
    "from keras.models import Sequential\n",
    "from keras.utils import to_categorical"
   ]
  },
  {
   "cell_type": "markdown",
   "metadata": {
    "id": "7Szo7P_3v00C"
   },
   "source": [
    "# Recolectar datos\n",
    "<img src=\"https://raw.githubusercontent.com/InoveAlumnos/dataset_analytics_python/master/images/Pipeline1.png\" width=\"1000\" align=\"middle\">"
   ]
  },
  {
   "cell_type": "code",
   "execution_count": null,
   "metadata": {
    "id": "HnVpNGuAvyFi"
   },
   "outputs": [],
   "source": [
    "if os.access('Telecust1.csv', os.F_OK) is False:\n",
    "    if platform.system() == 'Windows':\n",
    "        !curl https://raw.githubusercontent.com/InoveAlumnos/dataset_analytics_python/master/Telecust1.csv > Telecust1.csv\n",
    "    else:\n",
    "        !wget Telecust1.csv https://raw.githubusercontent.com/InoveAlumnos/dataset_analytics_python/master/Telecust1.csv"
   ]
  },
  {
   "cell_type": "markdown",
   "metadata": {
    "id": "BbNSgxdfw0ix"
   },
   "source": [
    "### `Telecust1.csv.csv`:\n",
    "El dataset **`Telecust1.csv.csv`** contiene diferentes tipos de clientes que consumen un servicio de telecomunicación, los cuales deseamos clasificar en 4 categorias.<br> [Dataset source](https://www.kaggle.com/prathamtripathi/customersegmentation)\n",
    "\n",
    "- **region** --> region, ejemplo 2\n",
    "- **tenure** --> grado permanencia, ejemplo 40\n",
    "- **age** --> edad, ejemplo 52\n",
    "- **income** --> ingresos o sueldo, ejemplo 50 (un número que no representa una moneda real\n",
    "- **marital** --> si está casado o no\n",
    "- **address** --> dirección\n",
    "- **employ** --> empleo\n",
    "- **retire** --> si está retirado o no\n",
    "- **genero** --> 0 o 1 (no se sabe cual es cual)\n"
   ]
  },
  {
   "cell_type": "markdown",
   "metadata": {
    "id": "NHHsGe1Qypde"
   },
   "source": [
    "# Procesar datos\n",
    "<img src=\"https://raw.githubusercontent.com/InoveAlumnos/dataset_analytics_python/master/images/Pipeline2.png\" width=\"1000\" align=\"middle\">"
   ]
  },
  {
   "cell_type": "code",
   "execution_count": null,
   "metadata": {
    "colab": {
     "base_uri": "https://localhost:8080/",
     "height": 359
    },
    "executionInfo": {
     "elapsed": 1648,
     "status": "ok",
     "timestamp": 1605313245466,
     "user": {
      "displayName": "inove",
      "photoUrl": "https://lh3.googleusercontent.com/a-/AOh14GhXN9lpkKFLA5gp8tW9cD3CZ1yGa9DUy9HZOgZm=s64",
      "userId": "03494171924251581304"
     },
     "user_tz": 180
    },
    "id": "uvzaKBMbyoiy",
    "outputId": "adb3ce40-aefc-41da-bb25-19ff5b0ad299"
   },
   "outputs": [],
   "source": [
    "df = pd.read_csv(\"Telecust1.csv\")\n",
    "des = df.describe()\n",
    "des.loc['Nan'] = df.isna().sum()\n",
    "des.loc['%Nan'] = (df.isna().mean())*100\n",
    "des"
   ]
  },
  {
   "cell_type": "code",
   "execution_count": null,
   "metadata": {
    "colab": {
     "base_uri": "https://localhost:8080/",
     "height": 204
    },
    "executionInfo": {
     "elapsed": 1637,
     "status": "ok",
     "timestamp": 1605313245469,
     "user": {
      "displayName": "inove",
      "photoUrl": "https://lh3.googleusercontent.com/a-/AOh14GhXN9lpkKFLA5gp8tW9cD3CZ1yGa9DUy9HZOgZm=s64",
      "userId": "03494171924251581304"
     },
     "user_tz": 180
    },
    "id": "Cw9HbE88y3wu",
    "outputId": "f76ca581-28cd-4eb2-b571-01fa0f17ba22"
   },
   "outputs": [],
   "source": [
    "df.head()"
   ]
  },
  {
   "cell_type": "code",
   "execution_count": null,
   "metadata": {
    "colab": {
     "base_uri": "https://localhost:8080/"
    },
    "executionInfo": {
     "elapsed": 1627,
     "status": "ok",
     "timestamp": 1605313245472,
     "user": {
      "displayName": "inove",
      "photoUrl": "https://lh3.googleusercontent.com/a-/AOh14GhXN9lpkKFLA5gp8tW9cD3CZ1yGa9DUy9HZOgZm=s64",
      "userId": "03494171924251581304"
     },
     "user_tz": 180
    },
    "id": "LirgXKpiy8dr",
    "outputId": "a2b58e91-09d6-4a36-8592-7b2f1eb78140"
   },
   "outputs": [],
   "source": [
    "print('Cantidad de datos en observacion:', df.shape[0])"
   ]
  },
  {
   "cell_type": "markdown",
   "metadata": {
    "id": "0BnzYdlRzBxz"
   },
   "source": [
    "# Explorar datos\n",
    "<img src=\"https://raw.githubusercontent.com/InoveAlumnos/dataset_analytics_python/master/images/Pipeline3.png\" width=\"1000\" align=\"middle\">"
   ]
  },
  {
   "cell_type": "code",
   "execution_count": null,
   "metadata": {
    "colab": {
     "base_uri": "https://localhost:8080/",
     "height": 297
    },
    "executionInfo": {
     "elapsed": 1614,
     "status": "ok",
     "timestamp": 1605313245473,
     "user": {
      "displayName": "inove",
      "photoUrl": "https://lh3.googleusercontent.com/a-/AOh14GhXN9lpkKFLA5gp8tW9cD3CZ1yGa9DUy9HZOgZm=s64",
      "userId": "03494171924251581304"
     },
     "user_tz": 180
    },
    "id": "X2w_eW5QI-hf",
    "outputId": "1533da9f-a5ee-480a-8682-d1ae0dadea7b"
   },
   "outputs": [],
   "source": [
    "df.describe()"
   ]
  },
  {
   "cell_type": "code",
   "execution_count": null,
   "metadata": {
    "colab": {
     "base_uri": "https://localhost:8080/"
    },
    "executionInfo": {
     "elapsed": 1601,
     "status": "ok",
     "timestamp": 1605313245474,
     "user": {
      "displayName": "inove",
      "photoUrl": "https://lh3.googleusercontent.com/a-/AOh14GhXN9lpkKFLA5gp8tW9cD3CZ1yGa9DUy9HZOgZm=s64",
      "userId": "03494171924251581304"
     },
     "user_tz": 180
    },
    "id": "yH6oDykAzBMG",
    "outputId": "f12555f7-2760-4212-cf80-a8537da84c8e"
   },
   "outputs": [],
   "source": [
    "# Exploramos que tan balanceado está el dataset,\n",
    "# como está repartida las categorias entre los clientes actuales\n",
    "df['custcat'].value_counts()"
   ]
  },
  {
   "cell_type": "code",
   "execution_count": null,
   "metadata": {
    "colab": {
     "base_uri": "https://localhost:8080/",
     "height": 279
    },
    "executionInfo": {
     "elapsed": 1591,
     "status": "ok",
     "timestamp": 1605313245477,
     "user": {
      "displayName": "inove",
      "photoUrl": "https://lh3.googleusercontent.com/a-/AOh14GhXN9lpkKFLA5gp8tW9cD3CZ1yGa9DUy9HZOgZm=s64",
      "userId": "03494171924251581304"
     },
     "user_tz": 180
    },
    "id": "u5cQJRWdzTk3",
    "outputId": "5faf520d-6218-4bb8-ed83-025e47434fee"
   },
   "outputs": [],
   "source": [
    "ax = sns.countplot(data=df, x=\"custcat\")"
   ]
  },
  {
   "cell_type": "markdown",
   "metadata": {
    "id": "YqVWUXPm0op-"
   },
   "source": [
    "Se puede ver que el dataset está bastante balanceado, no habrá una tendencia marcada"
   ]
  },
  {
   "cell_type": "code",
   "execution_count": null,
   "metadata": {
    "id": "VZ-1cgavIns4"
   },
   "outputs": [],
   "source": []
  },
  {
   "cell_type": "code",
   "execution_count": null,
   "metadata": {
    "colab": {
     "base_uri": "https://localhost:8080/",
     "height": 419
    },
    "executionInfo": {
     "elapsed": 1578,
     "status": "ok",
     "timestamp": 1605313245480,
     "user": {
      "displayName": "inove",
      "photoUrl": "https://lh3.googleusercontent.com/a-/AOh14GhXN9lpkKFLA5gp8tW9cD3CZ1yGa9DUy9HZOgZm=s64",
      "userId": "03494171924251581304"
     },
     "user_tz": 180
    },
    "id": "6f1b4PBcJAWU",
    "outputId": "8f6683c5-179c-47c4-c77e-ef1b9889e100"
   },
   "outputs": [],
   "source": [
    "# Nos quedamos con aquellas columnas que podemos entender su relacion con el objetivo\n",
    "df_clean = df[['tenure', 'age', 'income', 'marital', 'retire', 'gender', 'custcat']]\n",
    "df_clean"
   ]
  },
  {
   "cell_type": "markdown",
   "metadata": {
    "id": "ZdfLMthm0yyY"
   },
   "source": [
    "#### Normalización de los datos"
   ]
  },
  {
   "cell_type": "markdown",
   "metadata": {
    "id": "nqEKDZw0KETM"
   },
   "source": [
    "Analizar cual es la distribución de los datos numéricos\n",
    "- tenure\n",
    "- age\n",
    "- income"
   ]
  },
  {
   "cell_type": "code",
   "execution_count": null,
   "metadata": {
    "colab": {
     "base_uri": "https://localhost:8080/",
     "height": 386
    },
    "executionInfo": {
     "elapsed": 2069,
     "status": "ok",
     "timestamp": 1605313245987,
     "user": {
      "displayName": "inove",
      "photoUrl": "https://lh3.googleusercontent.com/a-/AOh14GhXN9lpkKFLA5gp8tW9cD3CZ1yGa9DUy9HZOgZm=s64",
      "userId": "03494171924251581304"
     },
     "user_tz": 180
    },
    "id": "GJlDmX_F1ksA",
    "outputId": "4a375f06-fbc1-42bf-b13e-f4a6f7d33286"
   },
   "outputs": [],
   "source": [
    "sns.displot(data=df_clean, x='age')"
   ]
  },
  {
   "cell_type": "code",
   "execution_count": null,
   "metadata": {
    "colab": {
     "base_uri": "https://localhost:8080/",
     "height": 386
    },
    "executionInfo": {
     "elapsed": 2562,
     "status": "ok",
     "timestamp": 1605313246494,
     "user": {
      "displayName": "inove",
      "photoUrl": "https://lh3.googleusercontent.com/a-/AOh14GhXN9lpkKFLA5gp8tW9cD3CZ1yGa9DUy9HZOgZm=s64",
      "userId": "03494171924251581304"
     },
     "user_tz": 180
    },
    "id": "_X2CcMqdJ7z6",
    "outputId": "cea50ccb-a42b-4ec5-cee1-77b65d0527a3"
   },
   "outputs": [],
   "source": [
    "sns.displot(data=df_clean, x='tenure')"
   ]
  },
  {
   "cell_type": "code",
   "execution_count": null,
   "metadata": {
    "colab": {
     "base_uri": "https://localhost:8080/",
     "height": 386
    },
    "executionInfo": {
     "elapsed": 3372,
     "status": "ok",
     "timestamp": 1605313247319,
     "user": {
      "displayName": "inove",
      "photoUrl": "https://lh3.googleusercontent.com/a-/AOh14GhXN9lpkKFLA5gp8tW9cD3CZ1yGa9DUy9HZOgZm=s64",
      "userId": "03494171924251581304"
     },
     "user_tz": 180
    },
    "id": "9xCksVi5J_V2",
    "outputId": "0d3a9300-2739-4bcc-ac49-57d247743100"
   },
   "outputs": [],
   "source": [
    "sns.displot(data=df_clean, x='income')"
   ]
  },
  {
   "cell_type": "markdown",
   "metadata": {
    "id": "7d6BDobHKLHy"
   },
   "source": [
    "El \"ingreso\" sigue una distribución normal pero con muchos outliers, es por eso que no utilizaremos el MinMaxScaler sino que se utilizará el StandardScaler a pesar de que \"tenure\" no siga una distribución normal"
   ]
  },
  {
   "cell_type": "code",
   "execution_count": null,
   "metadata": {
    "colab": {
     "base_uri": "https://localhost:8080/",
     "height": 204
    },
    "executionInfo": {
     "elapsed": 3360,
     "status": "ok",
     "timestamp": 1605313247321,
     "user": {
      "displayName": "inove",
      "photoUrl": "https://lh3.googleusercontent.com/a-/AOh14GhXN9lpkKFLA5gp8tW9cD3CZ1yGa9DUy9HZOgZm=s64",
      "userId": "03494171924251581304"
     },
     "user_tz": 180
    },
    "id": "Zc6xNfbgKj4y",
    "outputId": "8bb2dc93-076f-4a68-d49b-fa7ba208f9ee"
   },
   "outputs": [],
   "source": [
    "from sklearn.preprocessing import StandardScaler\n",
    "df_norm = df_clean.copy()\n",
    "age_scaler = StandardScaler()\n",
    "tenure_scaler = StandardScaler()\n",
    "income_scaler = StandardScaler()\n",
    "df_norm.loc[:, 'age'] = age_scaler.fit_transform(df[['age']])\n",
    "df_norm.loc[:, 'tenure'] = tenure_scaler.fit_transform(df[['tenure']])\n",
    "df_norm.loc[:, 'income'] = income_scaler.fit_transform(df[['income']])\n",
    "df_norm.head()"
   ]
  },
  {
   "cell_type": "code",
   "execution_count": null,
   "metadata": {
    "colab": {
     "base_uri": "https://localhost:8080/"
    },
    "executionInfo": {
     "elapsed": 3349,
     "status": "ok",
     "timestamp": 1605313247325,
     "user": {
      "displayName": "inove",
      "photoUrl": "https://lh3.googleusercontent.com/a-/AOh14GhXN9lpkKFLA5gp8tW9cD3CZ1yGa9DUy9HZOgZm=s64",
      "userId": "03494171924251581304"
     },
     "user_tz": 180
    },
    "id": "9aODNf0SoPyK",
    "outputId": "277d9660-c08d-44e4-9ca7-ee80e521ad24"
   },
   "outputs": [],
   "source": [
    "from sklearn.preprocessing import LabelEncoder\n",
    "le = LabelEncoder()\n",
    "df_enc = df_norm.copy()\n",
    "# Reemplazar la columna de salida texto a números\n",
    "df_enc['custcat'] = le.fit_transform(df_enc['custcat'])\n",
    "# Clases identificados\n",
    "le.classes_"
   ]
  },
  {
   "cell_type": "markdown",
   "metadata": {
    "id": "7z_SuZlj3gbQ"
   },
   "source": [
    "# Entrenar modelo\n",
    "<img src=\"https://raw.githubusercontent.com/InoveAlumnos/dataset_analytics_python/master/images/Pipeline4.png\" width=\"1000\" align=\"middle\">"
   ]
  },
  {
   "cell_type": "markdown",
   "metadata": {
    "id": "ntY84fHj3q5q"
   },
   "source": [
    "El primer paso es obtener los datos que serán la entrada del sistema (X) y los datos que serán la salida del modelo estimador (y)"
   ]
  },
  {
   "cell_type": "code",
   "execution_count": null,
   "metadata": {
    "id": "EIg2_OQ43fqZ"
   },
   "outputs": [],
   "source": [
    "X = df_enc.drop('custcat', axis=1).values\n",
    "y = to_categorical(df_enc['custcat'])"
   ]
  },
  {
   "cell_type": "code",
   "execution_count": null,
   "metadata": {
    "colab": {
     "base_uri": "https://localhost:8080/"
    },
    "executionInfo": {
     "elapsed": 3339,
     "status": "ok",
     "timestamp": 1605313247335,
     "user": {
      "displayName": "inove",
      "photoUrl": "https://lh3.googleusercontent.com/a-/AOh14GhXN9lpkKFLA5gp8tW9cD3CZ1yGa9DUy9HZOgZm=s64",
      "userId": "03494171924251581304"
     },
     "user_tz": 180
    },
    "id": "yUMai--jtV6l",
    "outputId": "19706f41-3fac-4fc1-a986-c24a0e7c8a67"
   },
   "outputs": [],
   "source": [
    "in_shape = X.shape[1]\n",
    "in_shape"
   ]
  },
  {
   "cell_type": "code",
   "execution_count": null,
   "metadata": {
    "colab": {
     "base_uri": "https://localhost:8080/"
    },
    "executionInfo": {
     "elapsed": 3333,
     "status": "ok",
     "timestamp": 1605313247338,
     "user": {
      "displayName": "inove",
      "photoUrl": "https://lh3.googleusercontent.com/a-/AOh14GhXN9lpkKFLA5gp8tW9cD3CZ1yGa9DUy9HZOgZm=s64",
      "userId": "03494171924251581304"
     },
     "user_tz": 180
    },
    "id": "54jBNa7qtXgz",
    "outputId": "8fc6699d-fa0b-4d05-e831-3004a14062a8"
   },
   "outputs": [],
   "source": [
    "out_shape = y.shape[1]\n",
    "out_shape"
   ]
  },
  {
   "cell_type": "markdown",
   "metadata": {
    "id": "sbr-SnON4LuM"
   },
   "source": [
    "Siguiente paso es dividir el dataset en entrenamiento (train) y evaluación (test). Utilizaremos el criterio 80%20%"
   ]
  },
  {
   "cell_type": "code",
   "execution_count": null,
   "metadata": {
    "id": "BVD4YkjS4MW2"
   },
   "outputs": [],
   "source": [
    "from sklearn.model_selection import train_test_split\n",
    "# Fijamos un \"random_state\" constante para que siempre el dataset se parta de la misma forma\n",
    "# para poder repetir los ensayos\n",
    "X_train, X_test, y_train, y_test = train_test_split(X, y, test_size=0.2, random_state=42)"
   ]
  },
  {
   "cell_type": "code",
   "execution_count": null,
   "metadata": {
    "id": "fu1u9JhXq9Dy"
   },
   "outputs": [],
   "source": [
    "from keras.layers import Dense\n",
    "\n",
    "def create_model(hidden_neurons):\n",
    "    # Crear un modelo secuencial\n",
    "    model = Sequential()\n",
    "\n",
    "    # Crear la capa de entrada y la capa oculta (hidden) de la red, que tendrá:\n",
    "    # --> tantas entradas (input_shape) como columnas (in_shape)\n",
    "    # --> tantas neuronas como deseemos\n",
    "    # --> utilizamos \"sigmoid\" como capa de activación\n",
    "    model.add(Dense(units=hidden_neurons, activation='sigmoid', input_shape=(in_shape,)))\n",
    "\n",
    "    # Crear la capa de salida, que tendrá tantas neuronas como salidas posibles\n",
    "    model.add(Dense(units=out_shape, activation='softmax'))\n",
    "\n",
    "    return model"
   ]
  },
  {
   "cell_type": "code",
   "execution_count": null,
   "metadata": {
    "colab": {
     "base_uri": "https://localhost:8080/"
    },
    "executionInfo": {
     "elapsed": 6142,
     "status": "ok",
     "timestamp": 1605313250176,
     "user": {
      "displayName": "inove",
      "photoUrl": "https://lh3.googleusercontent.com/a-/AOh14GhXN9lpkKFLA5gp8tW9cD3CZ1yGa9DUy9HZOgZm=s64",
      "userId": "03494171924251581304"
     },
     "user_tz": 180
    },
    "id": "J_89g3dSm2wf",
    "outputId": "b5398aff-438a-4962-942c-82b8f467d70b"
   },
   "outputs": [],
   "source": [
    "\n",
    "\n",
    "model = create_model(16)\n",
    "\n",
    "model.compile(optimizer=tf.keras.optimizers.Adam(learning_rate=0.005),\n",
    "              loss='categorical_crossentropy',\n",
    "              metrics=['accuracy'])\n",
    "\n",
    "history = model.fit(X_train, y_train, validation_split=0.2 , epochs=50, batch_size=32)"
   ]
  },
  {
   "cell_type": "code",
   "execution_count": null,
   "metadata": {
    "colab": {
     "base_uri": "https://localhost:8080/",
     "height": 265
    },
    "executionInfo": {
     "elapsed": 6971,
     "status": "ok",
     "timestamp": 1605313251017,
     "user": {
      "displayName": "inove",
      "photoUrl": "https://lh3.googleusercontent.com/a-/AOh14GhXN9lpkKFLA5gp8tW9cD3CZ1yGa9DUy9HZOgZm=s64",
      "userId": "03494171924251581304"
     },
     "user_tz": 180
    },
    "id": "xDuagYJHvNlm",
    "outputId": "8b6dc36f-1383-48a4-b3be-b2455fae3f1e"
   },
   "outputs": [],
   "source": [
    "epoch_count = range(1, len(history.history['accuracy']) + 1)\n",
    "sns.lineplot(x=epoch_count,  y=history.history['accuracy'], label='train')\n",
    "sns.lineplot(x=epoch_count,  y=history.history['val_accuracy'], label='valid')\n",
    "plt.show()"
   ]
  },
  {
   "cell_type": "code",
   "execution_count": null,
   "metadata": {
    "id": "NL0_TMz7Em4o"
   },
   "outputs": [],
   "source": [
    "y_hat_prob = model.predict(X_test)\n",
    "y_hat = np.argmax(y_hat_prob,axis=1)"
   ]
  },
  {
   "cell_type": "code",
   "execution_count": null,
   "metadata": {
    "id": "eUqp47r5hOCv"
   },
   "outputs": [],
   "source": [
    "model.summary()"
   ]
  },
  {
   "cell_type": "markdown",
   "metadata": {
    "id": "w3IfjUuI4XnD"
   },
   "source": [
    "# Validar modelo\n",
    "<img src=\"https://raw.githubusercontent.com/InoveAlumnos/dataset_analytics_python/master/images/Pipeline5.png\" width=\"1000\" align=\"middle\">"
   ]
  },
  {
   "cell_type": "code",
   "execution_count": null,
   "metadata": {
    "colab": {
     "base_uri": "https://localhost:8080/"
    },
    "executionInfo": {
     "elapsed": 6958,
     "status": "ok",
     "timestamp": 1605313251025,
     "user": {
      "displayName": "inove",
      "photoUrl": "https://lh3.googleusercontent.com/a-/AOh14GhXN9lpkKFLA5gp8tW9cD3CZ1yGa9DUy9HZOgZm=s64",
      "userId": "03494171924251581304"
     },
     "user_tz": 180
    },
    "id": "HnXeXHwdyHVx",
    "outputId": "cb55b25e-946d-4b9f-d87d-403f0f5247a4"
   },
   "outputs": [],
   "source": [
    "# Calcular la exactitud (accuracy)\n",
    "#scores = model.evaluate(X_test, y_test, verbose=0)\n",
    "scores = model.evaluate(X_test, y_test)\n",
    "scores[1]"
   ]
  },
  {
   "cell_type": "code",
   "execution_count": null,
   "metadata": {
    "colab": {
     "base_uri": "https://localhost:8080/"
    },
    "executionInfo": {
     "elapsed": 6950,
     "status": "ok",
     "timestamp": 1605313251027,
     "user": {
      "displayName": "inove",
      "photoUrl": "https://lh3.googleusercontent.com/a-/AOh14GhXN9lpkKFLA5gp8tW9cD3CZ1yGa9DUy9HZOgZm=s64",
      "userId": "03494171924251581304"
     },
     "user_tz": 180
    },
    "id": "CMKONtv55zL8",
    "outputId": "32c34f61-6f05-44d3-ddff-8ed8dccc3396"
   },
   "outputs": [],
   "source": [
    "# Calcular la exactitud (accuracy)\n",
    "from sklearn.metrics import accuracy_score\n",
    "accuracy_score(y_test.argmax(axis=1), y_hat, normalize=True)"
   ]
  },
  {
   "cell_type": "code",
   "execution_count": null,
   "metadata": {
    "colab": {
     "base_uri": "https://localhost:8080/",
     "height": 279
    },
    "executionInfo": {
     "elapsed": 6945,
     "status": "ok",
     "timestamp": 1605313251033,
     "user": {
      "displayName": "inove",
      "photoUrl": "https://lh3.googleusercontent.com/a-/AOh14GhXN9lpkKFLA5gp8tW9cD3CZ1yGa9DUy9HZOgZm=s64",
      "userId": "03494171924251581304"
     },
     "user_tz": 180
    },
    "id": "TeLeYLYz6ZhO",
    "outputId": "eaf4afbd-b128-4558-cf2c-79509bd5c781"
   },
   "outputs": [],
   "source": [
    "from sklearn.metrics import confusion_matrix, ConfusionMatrixDisplay\n",
    "cm = confusion_matrix(y_test.argmax(axis=1), y_hat)\n",
    "cmd = ConfusionMatrixDisplay(cm, display_labels=le.classes_)\n",
    "cmd.plot(cmap=plt.cm.Blues)\n",
    "plt.show()"
   ]
  },
  {
   "cell_type": "markdown",
   "metadata": {
    "id": "9dZxGbjG96jR"
   },
   "source": [
    "# Utilizar modelo\n",
    "<img src=\"https://raw.githubusercontent.com/InoveAlumnos/dataset_analytics_python/master/images/Pipeline6.png\" width=\"1000\" align=\"middle\">"
   ]
  },
  {
   "cell_type": "code",
   "execution_count": null,
   "metadata": {
    "id": "6euFUIFDRbmP"
   },
   "outputs": [],
   "source": [
    "# Supongamos que deseamos ver a que categoría pertenecemos\n",
    "# dado los siguientes datos\n",
    "age = 25\n",
    "tenure = 4\n",
    "income = df['income'].mean() # ganamos el promedio\n",
    "marital = 0 # no estamos casados\n",
    "retire = 0 # no estamos retirados\n",
    "gender = 1 # solo algun genero"
   ]
  },
  {
   "cell_type": "code",
   "execution_count": null,
   "metadata": {
    "colab": {
     "base_uri": "https://localhost:8080/"
    },
    "executionInfo": {
     "elapsed": 6932,
     "status": "ok",
     "timestamp": 1605313251039,
     "user": {
      "displayName": "inove",
      "photoUrl": "https://lh3.googleusercontent.com/a-/AOh14GhXN9lpkKFLA5gp8tW9cD3CZ1yGa9DUy9HZOgZm=s64",
      "userId": "03494171924251581304"
     },
     "user_tz": 180
    },
    "id": "e01cqkzTS8n3",
    "outputId": "aa378c14-0b3f-4d41-cb22-96dfb9e088d0"
   },
   "outputs": [],
   "source": [
    "# El scaler espera como entrada una matriz (filas y columnas)\n",
    "# Por eso el doble corchete\n",
    "age_numpy = np.array([[age]])\n",
    "# Utilizamos float para convertir la matriz que retorna el scaler\n",
    "# a un número\n",
    "age_norm = float(age_scaler.transform(age_numpy))\n",
    "tenure_norm = float(tenure_scaler.transform(np.array([[tenure]])))\n",
    "income_norm = float(tenure_scaler.transform(np.array([[income]])))\n",
    "# El sistema espera como entrada \"X\" en este caso una sola fila pero varias\n",
    "# columnas, por eso el reshape(1, -1) donde el \"-1\" significa \"varias\"\n",
    "# (el sistema determina cuantas)\n",
    "X_prueba = np.array([age_norm, tenure_norm, income_norm, marital, retire, gender]).reshape(1, -1)\n",
    "print('Shape:', X_prueba.shape)\n",
    "print('Valores:\\n', X_prueba)"
   ]
  },
  {
   "cell_type": "code",
   "execution_count": null,
   "metadata": {
    "colab": {
     "base_uri": "https://localhost:8080/"
    },
    "executionInfo": {
     "elapsed": 7179,
     "status": "ok",
     "timestamp": 1605313251312,
     "user": {
      "displayName": "inove",
      "photoUrl": "https://lh3.googleusercontent.com/a-/AOh14GhXN9lpkKFLA5gp8tW9cD3CZ1yGa9DUy9HZOgZm=s64",
      "userId": "03494171924251581304"
     },
     "user_tz": 180
    },
    "id": "kd57KsgVGRsj",
    "outputId": "08417af1-3571-4f82-c303-4737157aed2b"
   },
   "outputs": [],
   "source": [
    "mi_categoria_probabilidades = model.predict(X_prueba)\n",
    "mi_categoria_probabilidades"
   ]
  },
  {
   "cell_type": "code",
   "execution_count": null,
   "metadata": {},
   "outputs": [],
   "source": [
    "mi_categoria = mi_categoria_probabilidades.argmax()\n",
    "mi_categoria"
   ]
  },
  {
   "cell_type": "code",
   "execution_count": null,
   "metadata": {
    "colab": {
     "base_uri": "https://localhost:8080/"
    },
    "executionInfo": {
     "elapsed": 7172,
     "status": "ok",
     "timestamp": 1605313251314,
     "user": {
      "displayName": "inove",
      "photoUrl": "https://lh3.googleusercontent.com/a-/AOh14GhXN9lpkKFLA5gp8tW9cD3CZ1yGa9DUy9HZOgZm=s64",
      "userId": "03494171924251581304"
     },
     "user_tz": 180
    },
    "id": "DMMzBQugHNiM",
    "outputId": "33de0e63-3869-45ec-8117-3e24ae994096"
   },
   "outputs": [],
   "source": [
    "category = le.inverse_transform([mi_categoria])\n",
    "category"
   ]
  },
  {
   "cell_type": "code",
   "execution_count": null,
   "metadata": {
    "colab": {
     "base_uri": "https://localhost:8080/",
     "height": 35
    },
    "executionInfo": {
     "elapsed": 7163,
     "status": "ok",
     "timestamp": 1605313251315,
     "user": {
      "displayName": "inove",
      "photoUrl": "https://lh3.googleusercontent.com/a-/AOh14GhXN9lpkKFLA5gp8tW9cD3CZ1yGa9DUy9HZOgZm=s64",
      "userId": "03494171924251581304"
     },
     "user_tz": 180
    },
    "id": "QUmJ7tFUHuG7",
    "outputId": "57771a5d-8987-44c0-e60f-1e1221284137"
   },
   "outputs": [],
   "source": [
    "category[0]"
   ]
  },
  {
   "cell_type": "markdown",
   "metadata": {
    "id": "h7yzVZcZ9-4m"
   },
   "source": [
    "# Conclusión\n",
    "<img src=\"https://raw.githubusercontent.com/InoveAlumnos/dataset_analytics_python/master/images/Pipeline7.png\" width=\"1000\" align=\"middle\">"
   ]
  },
  {
   "cell_type": "markdown",
   "metadata": {
    "id": "sWAReOgo-B7b"
   },
   "source": [
    "En este ejemplo se obtuvo muy poca performance, pero se obtuvo un mejor resultado que la vez que se aplicado el algoritmo de clasificación KNN en donde el accuracy obtenido fue del 34%"
   ]
  }
 ],
 "metadata": {
  "colab": {
   "collapsed_sections": [],
   "name": "3_clasificacion_multiple.ipynb",
   "provenance": [],
   "toc_visible": true
  },
  "kernelspec": {
   "display_name": "Python 3",
   "language": "python",
   "name": "python3"
  },
  "language_info": {
   "codemirror_mode": {
    "name": "ipython",
    "version": 3
   },
   "file_extension": ".py",
   "mimetype": "text/x-python",
   "name": "python",
   "nbconvert_exporter": "python",
   "pygments_lexer": "ipython3",
   "version": "3.8.10"
  }
 },
 "nbformat": 4,
 "nbformat_minor": 4
}
